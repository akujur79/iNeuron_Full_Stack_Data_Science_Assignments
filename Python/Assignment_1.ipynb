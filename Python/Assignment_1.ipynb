{
 "cells": [
  {
   "cell_type": "markdown",
   "id": "f7832813",
   "metadata": {},
   "source": [
    "# Assignment 1"
   ]
  },
  {
   "cell_type": "markdown",
   "id": "3240f751",
   "metadata": {},
   "source": [
    "### 1)  In the below elements which of them are values or an expression? eg:- values can be integer or string and expressions will be mathematical operators."
   ]
  },
  {
   "cell_type": "raw",
   "id": "0e45081d",
   "metadata": {},
   "source": [
    "*, 'hello',-87.8, -, /, +, 6 \n"
   ]
  },
  {
   "cell_type": "markdown",
   "id": "eda3f7ce",
   "metadata": {},
   "source": [
    "Ans: There are 3 Expressions and 4 Operators\n",
    "\n",
    "Operators: *, -, /, +       \n",
    "Expressions: 'hello', '-87.8', '6'"
   ]
  },
  {
   "cell_type": "code",
   "execution_count": null,
   "id": "7f43537a",
   "metadata": {},
   "outputs": [],
   "source": []
  },
  {
   "cell_type": "markdown",
   "id": "324ec2e8",
   "metadata": {},
   "source": [
    "### 2. What is the difference between string and variable?"
   ]
  },
  {
   "cell_type": "markdown",
   "id": "9efbe05e",
   "metadata": {},
   "source": [
    "Ans: A string and a variable are two distinct concepts in programming. Here's an explanation of each:\n",
    "\n",
    "String: A string is a data type that represents a sequence of characters. It is used to store and manipulate textual data. In most programming languages, strings are enclosed within quotation marks, such as single quotes (') or double quotes (\"). For example, 'Hello, World!' and \"OpenAI\" are strings. \n",
    "\n",
    "Variable: A variable is a symbolic name or identifier that represents a value stored in computer memory. It is used to store and retrieve data during program execution. Variables can hold various types of data, including strings, numbers, booleans, and more. When you assign a value to a variable, you associate the variable name with that value. For example, 'name = \"John\"' assigns the string \"John\" to the variable 'name'."
   ]
  },
  {
   "cell_type": "code",
   "execution_count": null,
   "id": "f4947f3c",
   "metadata": {},
   "outputs": [],
   "source": []
  },
  {
   "cell_type": "markdown",
   "id": "42e4a32e",
   "metadata": {},
   "source": [
    "### 3. Describe three different data types."
   ]
  },
  {
   "cell_type": "markdown",
   "id": "b075c0bc",
   "metadata": {},
   "source": [
    "Ans: \n",
    "1) String (str): The string data type represents a sequence of characters. It is typically used to store and manipulate textual data. Strings are enclosed within quotation marks (single or double) in most programming languages. For example, \"Hello, World!\" and 'OpenAI' are strings.\n",
    "\n",
    "2) Integer (int): The integer data type represents whole numbers without any fractional or decimal parts. Integers can be positive, negative, or zero. For example, 5, -10, and 0 are integers. Integers are often used for counting, indexing, and performing mathematical calculations. Common operations on integers include addition, subtraction, multiplication, and division.\n",
    "\n",
    "3) Boolean (bool): The boolean data type represents a binary value that can be either True or False. Booleans are primarily used for logical operations and conditional statements. They are useful for expressing conditions and making decisions in programs. For example, a boolean variable isTrue can hold the value True or False based on a certain condition. "
   ]
  },
  {
   "cell_type": "code",
   "execution_count": null,
   "id": "c2633a9d",
   "metadata": {},
   "outputs": [],
   "source": []
  },
  {
   "cell_type": "markdown",
   "id": "8b2bfca1",
   "metadata": {},
   "source": [
    "### 4. What is an expression made up of? What do all expressions do?"
   ]
  },
  {
   "cell_type": "markdown",
   "id": "4568de0b",
   "metadata": {},
   "source": [
    "Ans: An expression is a combination of values, variables, operators, and calls to functions. Expressions need to be evaluated. If we ask Python to print an expression, the interpreter evaluates the expression and displays the result."
   ]
  },
  {
   "cell_type": "code",
   "execution_count": 1,
   "id": "53963489",
   "metadata": {},
   "outputs": [
    {
     "data": {
      "text/plain": [
       "0"
      ]
     },
     "execution_count": 1,
     "metadata": {},
     "output_type": "execute_result"
    }
   ],
   "source": [
    "4*5+20-40 # Is an Expression, The Python Interpreter Evaluates it to 0"
   ]
  },
  {
   "cell_type": "code",
   "execution_count": null,
   "id": "475a6bf7",
   "metadata": {},
   "outputs": [],
   "source": []
  },
  {
   "cell_type": "markdown",
   "id": "db9148d5",
   "metadata": {},
   "source": [
    "### 5. This assignment statements, like spam = 10. What is the difference between an expression and a statement?\n"
   ]
  },
  {
   "cell_type": "markdown",
   "id": "004e5a35",
   "metadata": {},
   "source": [
    "Ans: An expression is a combination of values, variables, and operators.When we type an expression at the prompt, the interpreter evaluates it, which means that it finds the value of the expression.\n",
    "\n",
    "eg: 4*5+20-40 is an example of a statement\n",
    "\n",
    "A statement is a unit of code that has an effect, like creating a variable or displaying a value.When we type a statement, the interpreter executes it, which means that it does whatever the statement says. In general, statements don’t have values.\n",
    "\n",
    "eg: variable declaration and assignment are statements because they do not return a value"
   ]
  },
  {
   "cell_type": "code",
   "execution_count": 2,
   "id": "7102cf5b",
   "metadata": {},
   "outputs": [
    {
     "name": "stdout",
     "output_type": "stream",
     "text": [
      "Hello World !\n"
     ]
    }
   ],
   "source": [
    "#Example:\n",
    "4*5+20-40 # Is a Expression\n",
    "courseName = 'INeuron FullStack DataScience' # Is a Statement\n",
    "print(\"Hello World !\") # Is a Expression Statement"
   ]
  },
  {
   "cell_type": "code",
   "execution_count": null,
   "id": "f2bf729b",
   "metadata": {},
   "outputs": [],
   "source": []
  },
  {
   "cell_type": "markdown",
   "id": "48f800f5",
   "metadata": {},
   "source": [
    "### 6.After running the following code, what does the variable bacon contain?"
   ]
  },
  {
   "cell_type": "markdown",
   "id": "ae0a2ccf",
   "metadata": {},
   "source": [
    "bacon = 22     \n",
    "bacon + 1"
   ]
  },
  {
   "cell_type": "markdown",
   "id": "15d7ab95",
   "metadata": {},
   "source": [
    "Ans: The variable bacon is set to 22 .The expression bacon + 1 does not reassign the value in bacon (that would the case if the expression is like bacon = bacon + 1 instead of bacon + 1)"
   ]
  },
  {
   "cell_type": "code",
   "execution_count": 3,
   "id": "7328ba84",
   "metadata": {},
   "outputs": [
    {
     "name": "stdout",
     "output_type": "stream",
     "text": [
      "22\n"
     ]
    }
   ],
   "source": [
    "# Example Case#1\n",
    "bacon=22\n",
    "bacon+1\n",
    "print(bacon)"
   ]
  },
  {
   "cell_type": "code",
   "execution_count": 4,
   "id": "07cceae3",
   "metadata": {},
   "outputs": [
    {
     "name": "stdout",
     "output_type": "stream",
     "text": [
      "23\n"
     ]
    }
   ],
   "source": [
    "#Example Case#2\n",
    "bacon=22\n",
    "bacon=bacon+1 \n",
    "print(bacon)"
   ]
  },
  {
   "cell_type": "code",
   "execution_count": null,
   "id": "9d39b161",
   "metadata": {},
   "outputs": [],
   "source": []
  },
  {
   "cell_type": "markdown",
   "id": "546d8d7d",
   "metadata": {},
   "source": [
    "### 7.What should the values of the following two terms be?"
   ]
  },
  {
   "cell_type": "markdown",
   "id": "49273d99",
   "metadata": {},
   "source": [
    "'spam'+'spamspam'       \n",
    "'spam'*3"
   ]
  },
  {
   "cell_type": "markdown",
   "id": "a94629ed",
   "metadata": {},
   "source": [
    "Ans: Both expressions evaluate to the string 'spamspamspam' Where as the first expression follows String Concatentation and the second expression follows String Multiplication"
   ]
  },
  {
   "cell_type": "code",
   "execution_count": 5,
   "id": "b7e4fe2b",
   "metadata": {},
   "outputs": [
    {
     "name": "stdout",
     "output_type": "stream",
     "text": [
      "spamspamspam\n",
      "spamspamspam\n"
     ]
    }
   ],
   "source": [
    "print('spam'+'spamspam') # string concatenation\n",
    "print('spam'*3) # string multiplication"
   ]
  },
  {
   "cell_type": "code",
   "execution_count": null,
   "id": "7094e542",
   "metadata": {},
   "outputs": [],
   "source": []
  },
  {
   "cell_type": "markdown",
   "id": "b7c74b68",
   "metadata": {},
   "source": [
    "### 8. Why is eggs a valid variable name while 100 is invalid?"
   ]
  },
  {
   "cell_type": "markdown",
   "id": "31ab8f4e",
   "metadata": {},
   "source": [
    "Ans: As per python,Variable names cannot begin with a number. The python rules for naming a variable are :-\n",
    "\n",
    "1) Variable name must start with a letter or the underscore character.       \n",
    "2) Variable name cannot start with a number.       \n",
    "3) Variable name can only contain alpha-numeric characters and underscores (A-z, 0-9, & _ ).          \n",
    "4) Variable names are case-sensitive (name, INEURON and ineuron are three different variables).         \n",
    "5) The reserved words(keywords) cannot be used naming the variable."
   ]
  },
  {
   "cell_type": "code",
   "execution_count": 6,
   "id": "5d3a0f46",
   "metadata": {},
   "outputs": [
    {
     "ename": "SyntaxError",
     "evalue": "cannot assign to literal (3634917690.py, line 2)",
     "output_type": "error",
     "traceback": [
      "\u001b[1;36m  Input \u001b[1;32mIn [6]\u001b[1;36m\u001b[0m\n\u001b[1;33m    100='hello' # Invalid Variable Initilization\u001b[0m\n\u001b[1;37m    ^\u001b[0m\n\u001b[1;31mSyntaxError\u001b[0m\u001b[1;31m:\u001b[0m cannot assign to literal\n"
     ]
    }
   ],
   "source": [
    "egg='Ineuron' # Valid variable Initilization\n",
    "100='hello' # Invalid Variable Initilization\n",
    "print(egg) #prints the value of egg ie Ineuron\n",
    "print(100) # Raises a Syntax Error as 100 is not a valid variable name"
   ]
  },
  {
   "cell_type": "code",
   "execution_count": null,
   "id": "ba37ff35",
   "metadata": {},
   "outputs": [],
   "source": []
  },
  {
   "cell_type": "markdown",
   "id": "e290996b",
   "metadata": {},
   "source": [
    "### 9.What three functions can be used to get the integer,floating-point number,or string version of a value?"
   ]
  },
  {
   "cell_type": "markdown",
   "id": "ff080760",
   "metadata": {},
   "source": [
    "Ans: The int(),float(),and str() functions will evaluate to the integer,floating-point number,string version of the value passed to them."
   ]
  },
  {
   "cell_type": "code",
   "execution_count": 7,
   "id": "2c3ec95b",
   "metadata": {},
   "outputs": [
    {
     "name": "stdout",
     "output_type": "stream",
     "text": [
      "int(10.0) ->  10\n",
      "float(10) ->  10.0\n",
      "str(10) ->  10\n"
     ]
    }
   ],
   "source": [
    "# Examples:\n",
    "print('int(10.0) -> ',int(10.0)) # int() function converts given input to int\n",
    "print('float(10) -> ',float(10)) # float() function converts given input to float\n",
    "print('str(10) -> ',str(10)) # str() function converts given input to string"
   ]
  },
  {
   "cell_type": "code",
   "execution_count": null,
   "id": "1c717ef0",
   "metadata": {},
   "outputs": [],
   "source": []
  },
  {
   "cell_type": "markdown",
   "id": "32d76f85",
   "metadata": {},
   "source": [
    "### 10.Why does this expression cause an error? how can you fix it?"
   ]
  },
  {
   "cell_type": "markdown",
   "id": "af0fc123",
   "metadata": {},
   "source": [
    "'I have eaten ' + 99 + 'burritos.'"
   ]
  },
  {
   "cell_type": "markdown",
   "id": "430663e0",
   "metadata": {},
   "source": [
    "Ans: This cause of error is 99, because 99 is not a string. 99 must be typecasted to a string to fix this error.       \n",
    "The correct way is:\n",
    "Input: 'I have eaten ' + str(99) + 'burritos.'\n",
    "Output: 'I have eaten 99 burritos.'"
   ]
  },
  {
   "cell_type": "code",
   "execution_count": 9,
   "id": "15663502",
   "metadata": {},
   "outputs": [
    {
     "name": "stdout",
     "output_type": "stream",
     "text": [
      "I have eaten 99 burritos.\n"
     ]
    }
   ],
   "source": [
    "#Example\n",
    "print('I have eaten '+str(99)+' burritos.')"
   ]
  },
  {
   "cell_type": "code",
   "execution_count": null,
   "id": "3f8d6c8d",
   "metadata": {},
   "outputs": [],
   "source": []
  }
 ],
 "metadata": {
  "kernelspec": {
   "display_name": "Python 3 (ipykernel)",
   "language": "python",
   "name": "python3"
  },
  "language_info": {
   "codemirror_mode": {
    "name": "ipython",
    "version": 3
   },
   "file_extension": ".py",
   "mimetype": "text/x-python",
   "name": "python",
   "nbconvert_exporter": "python",
   "pygments_lexer": "ipython3",
   "version": "3.9.12"
  }
 },
 "nbformat": 4,
 "nbformat_minor": 5
}
